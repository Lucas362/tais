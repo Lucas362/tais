{
 "cells": [
  {
   "cell_type": "markdown",
   "metadata": {
    "colab_type": "text",
    "id": "kO9wt2g3okLS"
   },
   "source": [
    "# Analisando o bot\n",
    "\n",
    "Este jupyter-notebook vai auxiliar na análise de um RASA bot."
   ]
  },
  {
   "cell_type": "markdown",
   "metadata": {},
   "source": [
    "## Instalação\n",
    "\n",
    "### Configurando jupyter"
   ]
  },
  {
   "cell_type": "code",
   "execution_count": 1,
   "metadata": {
    "colab": {
     "autoexec": {
      "startup": false,
      "wait_interval": 0
     },
     "base_uri": "https://localhost:8080/",
     "height": 3607
    },
    "colab_type": "code",
    "executionInfo": {
     "elapsed": 58315,
     "status": "ok",
     "timestamp": 1521575035242,
     "user": {
      "displayName": "Ricardo Wölker",
      "photoUrl": "https://lh3.googleusercontent.com/a/default-user=s128",
      "userId": "115384113157413623365"
     },
     "user_tz": 0
    },
    "id": "X_2-sKgo_qyl",
    "outputId": "b947c702-75fa-406d-d21d-a691dcb5236d",
    "scrolled": true
   },
   "outputs": [
    {
     "data": {
      "text/plain": [
       "0"
      ]
     },
     "execution_count": 1,
     "metadata": {},
     "output_type": "execute_result"
    }
   ],
   "source": [
    "import os\n",
    "os.system('pip install -r intent-requirements.txt')"
   ]
  },
  {
   "cell_type": "code",
   "execution_count": 2,
   "metadata": {
    "scrolled": true
   },
   "outputs": [],
   "source": [
    "%matplotlib inline\n",
    "\n",
    "import logging, io, json, warnings\n",
    "logging.basicConfig(level=\"INFO\")\n",
    "warnings.filterwarnings('ignore')\n",
    "\n",
    "def pprint(o):\n",
    "    # small helper to make dict dumps a bit prettier\n",
    "    print(json.dumps(o, indent=2))"
   ]
  },
  {
   "cell_type": "markdown",
   "metadata": {
    "colab_type": "text",
    "id": "y4miuS-TqYcn"
   },
   "source": [
    "### Instalação do Rasa\n"
   ]
  },
  {
   "cell_type": "code",
   "execution_count": 3,
   "metadata": {},
   "outputs": [
    {
     "name": "stdout",
     "output_type": "stream",
     "text": [
      "Requirement already satisfied: pt_core_news_sm==2.0.0 from https://github.com/explosion/spacy-models/releases/download/pt_core_news_sm-2.0.0/pt_core_news_sm-2.0.0.tar.gz#egg=pt_core_news_sm==2.0.0 in /home/arthur/Documents/lappis/bot/rasa-demo-pydata18/rasa_env/lib/python3.6/site-packages (2.0.0)\n",
      "\n",
      "\u001b[93m    Linking successful\u001b[0m\n",
      "    /home/arthur/Documents/lappis/bot/rasa-demo-pydata18/rasa_env/lib/python3.6/site-packages/pt_core_news_sm\n",
      "    -->\n",
      "    /home/arthur/Documents/lappis/bot/rasa-demo-pydata18/rasa_env/lib/python3.6/site-packages/spacy/data/pt\n",
      "\n",
      "    You can now load the model via spacy.load('pt')\n",
      "\n"
     ]
    }
   ],
   "source": [
    "import sys\n",
    "python = sys.executable\n",
    "\n",
    "# as well as install a language model:\n",
    "!{python} -m spacy download pt;"
   ]
  },
  {
   "cell_type": "markdown",
   "metadata": {},
   "source": [
    "Verificando versões:"
   ]
  },
  {
   "cell_type": "code",
   "execution_count": 4,
   "metadata": {
    "scrolled": true
   },
   "outputs": [
    {
     "name": "stdout",
     "output_type": "stream",
     "text": [
      "rasa_nlu: <module 'rasa_nlu' from '/home/arthur/Documents/lappis/bot/rasa-demo-pydata18/rasa_env/lib/python3.6/site-packages/rasa_nlu/__init__.py'>\n",
      "Loading spaCy language model...\n",
      "Olá Mundo!\n"
     ]
    }
   ],
   "source": [
    "import rasa_nlu\n",
    "import spacy\n",
    "\n",
    "print(\"rasa_nlu: {}\".format(rasa_nlu))\n",
    "print(\"Loading spaCy language model...\")\n",
    "print(spacy.load(\"pt\")(\"Olá Mundo!\"))"
   ]
  },
  {
   "cell_type": "markdown",
   "metadata": {},
   "source": [
    "### Ferramentas adicionais\n",
    "\n",
    "Atualize a instalação de acordo com seu sistema operacional"
   ]
  },
  {
   "cell_type": "code",
   "execution_count": 5,
   "metadata": {
    "scrolled": true
   },
   "outputs": [],
   "source": [
    "#!apt-get -qq install -y graphviz libgraphviz-dev pkg-config;\n",
    "#!brew install graphviz;\n",
    "#!yaourt -S graphviz;"
   ]
  },
  {
   "cell_type": "markdown",
   "metadata": {
    "colab_type": "text",
    "id": "cNa5KHl1nzhT"
   },
   "source": [
    "## Adicionando nlu (natural language understanding)\n",
    "\n",
    "Nesta parte o bot vai aprender a entender a linguagem"
   ]
  },
  {
   "cell_type": "markdown",
   "metadata": {
    "colab_type": "text",
    "id": "1xeXgpdwzOAl"
   },
   "source": [
    "### Treinando o modelo do Rasa NLU"
   ]
  },
  {
   "cell_type": "code",
   "execution_count": null,
   "metadata": {
    "colab": {
     "autoexec": {
      "startup": false,
      "wait_interval": 0
     },
     "base_uri": "https://localhost:8080/",
     "height": 377
    },
    "colab_type": "code",
    "executionInfo": {
     "elapsed": 2821,
     "status": "ok",
     "timestamp": 1521380062879,
     "user": {
      "displayName": "Alexander Weidauer",
      "photoUrl": "//lh6.googleusercontent.com/-j4xnI5_PFWA/AAAAAAAAAAI/AAAAAAAAAAo/wPT2w5Bl3xg/s50-c-k-no/photo.jpg",
      "userId": "100444450157165144272"
     },
     "user_tz": -60
    },
    "id": "qHsAH49OePcM",
    "outputId": "f840c42d-acf2-4fbf-b439-e5a239ffb32b",
    "scrolled": true
   },
   "outputs": [
    {
     "name": "stderr",
     "output_type": "stream",
     "text": [
      "INFO:rasa_nlu.training_data.loading:Training data format of ../data/intents/geral.md is md\n",
      "INFO:rasa_nlu.training_data.training_data:Training data stats: \n",
      "\t- intent examples: 229 (8 distinct intents)\n",
      "\t- Found intents: 'afirmar_curiosidades', 'duvida_sobre_contexto', 'afirmar_projeto', 'afirmar', 'extra', 'negar', 'cumprimentar', 'o_que_eh'\n",
      "\t- entity examples: 0 (0 distinct entities)\n",
      "\t- found entities: \n",
      "\n",
      "INFO:rasa_nlu.training_data.loading:Training data format of ../data/intents/curiosidades.md is md\n",
      "INFO:rasa_nlu.training_data.training_data:Training data stats: \n",
      "\t- intent examples: 167 (8 distinct intents)\n",
      "\t- Found intents: 'curiosidades_receber_incetivo_de_parentes', 'curiosidades_lei_rouanet_arrecadamento', 'curiosidades_quantidade_projetos', 'curiosidades_lei_rouanet_denuncia', 'curiosidades_beneficios_incentivo_projetos_culturais', 'curiosidades_lei_rouanet_elegibilidade', 'curiosidades_deducao_imposto_de_renda_incentivador', 'curiosidades_elegibilidade_de_empresa_para_beneficios'\n",
      "\t- entity examples: 0 (0 distinct entities)\n",
      "\t- found entities: \n",
      "\n",
      "INFO:rasa_nlu.training_data.training_data:Training data stats: \n",
      "\t- intent examples: 396 (16 distinct intents)\n",
      "\t- Found intents: 'curiosidades_lei_rouanet_arrecadamento', 'afirmar_curiosidades', 'duvida_sobre_contexto', 'afirmar_projeto', 'curiosidades_beneficios_incentivo_projetos_culturais', 'curiosidades_lei_rouanet_denuncia', 'o_que_eh', 'curiosidades_lei_rouanet_elegibilidade', 'extra', 'negar', 'curiosidades_deducao_imposto_de_renda_incentivador', 'curiosidades_receber_incetivo_de_parentes', 'curiosidades_quantidade_projetos', 'afirmar', 'cumprimentar', 'curiosidades_elegibilidade_de_empresa_para_beneficios'\n",
      "\t- entity examples: 0 (0 distinct entities)\n",
      "\t- found entities: \n",
      "\n",
      "INFO:rasa_nlu.model:Starting to train component tokenizer_whitespace\n",
      "INFO:rasa_nlu.model:Finished training component.\n",
      "INFO:rasa_nlu.model:Starting to train component ner_crf\n",
      "INFO:rasa_nlu.model:Finished training component.\n",
      "INFO:rasa_nlu.model:Starting to train component ner_synonyms\n",
      "INFO:rasa_nlu.model:Finished training component.\n",
      "INFO:rasa_nlu.model:Starting to train component intent_featurizer_count_vectors\n",
      "INFO:rasa_nlu.model:Finished training component.\n",
      "INFO:rasa_nlu.model:Starting to train component intent_classifier_tensorflow_embedding\n",
      "INFO:rasa_nlu.classifiers.embedding_intent_classifier:Accuracy is updated every 10 epochs\n",
      "Epochs: 100%|██████████| 300/300 [00:11<00:00, 25.13it/s, loss=0.042, acc=0.985]\n",
      "INFO:rasa_nlu.classifiers.embedding_intent_classifier:Finished training embedding policy, loss=0.042, train accuracy=0.985\n",
      "INFO:rasa_nlu.model:Finished training component.\n",
      "INFO:rasa_nlu.model:Successfully saved model into '/home/arthur/Documents/lappis/bot/rouana/rouana/lab/models/nlu/default/current'\n",
      "INFO:tensorflow:Restoring parameters from /home/arthur/Documents/lappis/bot/rouana/rouana/lab/./models/nlu/default/current/intent_classifier_tensorflow_embedding.ckpt\n",
      "INFO:rasa_nlu.training_data.loading:Training data format of ../data/intents/geral.md is md\n",
      "INFO:rasa_nlu.training_data.training_data:Training data stats: \n",
      "\t- intent examples: 229 (8 distinct intents)\n",
      "\t- Found intents: 'afirmar_curiosidades', 'duvida_sobre_contexto', 'afirmar_projeto', 'afirmar', 'extra', 'negar', 'cumprimentar', 'o_que_eh'\n",
      "\t- entity examples: 0 (0 distinct entities)\n",
      "\t- found entities: \n",
      "\n",
      "INFO:rasa_nlu.training_data.loading:Training data format of ../data/intents/curiosidades.md is md\n",
      "INFO:rasa_nlu.training_data.training_data:Training data stats: \n",
      "\t- intent examples: 167 (8 distinct intents)\n",
      "\t- Found intents: 'curiosidades_receber_incetivo_de_parentes', 'curiosidades_lei_rouanet_arrecadamento', 'curiosidades_quantidade_projetos', 'curiosidades_lei_rouanet_denuncia', 'curiosidades_beneficios_incentivo_projetos_culturais', 'curiosidades_lei_rouanet_elegibilidade', 'curiosidades_deducao_imposto_de_renda_incentivador', 'curiosidades_elegibilidade_de_empresa_para_beneficios'\n",
      "\t- entity examples: 0 (0 distinct entities)\n",
      "\t- found entities: \n",
      "\n",
      "INFO:rasa_nlu.training_data.training_data:Training data stats: \n",
      "\t- intent examples: 396 (16 distinct intents)\n",
      "\t- Found intents: 'curiosidades_lei_rouanet_arrecadamento', 'afirmar_curiosidades', 'duvida_sobre_contexto', 'afirmar_projeto', 'curiosidades_beneficios_incentivo_projetos_culturais', 'curiosidades_lei_rouanet_denuncia', 'o_que_eh', 'curiosidades_lei_rouanet_elegibilidade', 'extra', 'negar', 'curiosidades_deducao_imposto_de_renda_incentivador', 'curiosidades_receber_incetivo_de_parentes', 'curiosidades_quantidade_projetos', 'afirmar', 'cumprimentar', 'curiosidades_elegibilidade_de_empresa_para_beneficios'\n",
      "\t- entity examples: 0 (0 distinct entities)\n",
      "\t- found entities: \n",
      "\n",
      "INFO:rasa_nlu.evaluate:Intent evaluation results:\n",
      "INFO:rasa_nlu.evaluate:Intent Evaluation: Only considering those 396 examples that have a defined intent out of 396 examples\n",
      "INFO:rasa_nlu.evaluate:F1-Score:  0.984280303030303\n",
      "INFO:rasa_nlu.evaluate:Precision: 0.9862887966336242\n",
      "INFO:rasa_nlu.evaluate:Accuracy:  0.9848484848484849\n",
      "INFO:rasa_nlu.evaluate:Classification report: \n",
      "                                                       precision    recall  f1-score   support\n",
      "\n",
      "                                              afirmar       0.89      1.00      0.94        33\n",
      "                                 afirmar_curiosidades       1.00      1.00      1.00        21\n",
      "                                      afirmar_projeto       1.00      1.00      1.00        27\n",
      "                                         cumprimentar       0.93      1.00      0.96        27\n",
      " curiosidades_beneficios_incentivo_projetos_culturais       1.00      1.00      1.00        44\n",
      "   curiosidades_deducao_imposto_de_renda_incentivador       1.00      1.00      1.00        14\n",
      "curiosidades_elegibilidade_de_empresa_para_beneficios       1.00      1.00      1.00        15\n",
      "               curiosidades_lei_rouanet_arrecadamento       1.00      1.00      1.00        20\n",
      "                    curiosidades_lei_rouanet_denuncia       1.00      1.00      1.00        20\n",
      "               curiosidades_lei_rouanet_elegibilidade       1.00      1.00      1.00        15\n",
      "                     curiosidades_quantidade_projetos       1.00      1.00      1.00        19\n",
      "            curiosidades_receber_incetivo_de_parentes       1.00      1.00      1.00        20\n",
      "                                duvida_sobre_contexto       1.00      1.00      1.00        10\n",
      "                                                extra       1.00      0.78      0.88        27\n",
      "                                                negar       1.00      1.00      1.00        46\n",
      "                                             o_que_eh       1.00      1.00      1.00        38\n",
      "\n",
      "                                          avg / total       0.99      0.98      0.98       396\n",
      "\n",
      "INFO:rasa_nlu.evaluate:There were some nlu intent classification errors. Use `--verbose` to show them in the log.\n",
      "INFO:rasa_nlu.evaluate:Model prediction errors saved to errors.json.\n",
      "INFO:rasa_nlu.evaluate:Confusion matrix, without normalization: \n",
      "[[33  0  0  0  0  0  0  0  0  0  0  0  0  0  0  0]\n",
      " [ 0 21  0  0  0  0  0  0  0  0  0  0  0  0  0  0]\n",
      " [ 0  0 27  0  0  0  0  0  0  0  0  0  0  0  0  0]\n",
      " [ 0  0  0 27  0  0  0  0  0  0  0  0  0  0  0  0]\n",
      " [ 0  0  0  0 44  0  0  0  0  0  0  0  0  0  0  0]\n",
      " [ 0  0  0  0  0 14  0  0  0  0  0  0  0  0  0  0]\n",
      " [ 0  0  0  0  0  0 15  0  0  0  0  0  0  0  0  0]\n",
      " [ 0  0  0  0  0  0  0 20  0  0  0  0  0  0  0  0]\n",
      " [ 0  0  0  0  0  0  0  0 20  0  0  0  0  0  0  0]\n",
      " [ 0  0  0  0  0  0  0  0  0 15  0  0  0  0  0  0]\n",
      " [ 0  0  0  0  0  0  0  0  0  0 19  0  0  0  0  0]\n",
      " [ 0  0  0  0  0  0  0  0  0  0  0 20  0  0  0  0]\n",
      " [ 0  0  0  0  0  0  0  0  0  0  0  0 10  0  0  0]\n",
      " [ 4  0  0  2  0  0  0  0  0  0  0  0  0 21  0  0]\n",
      " [ 0  0  0  0  0  0  0  0  0  0  0  0  0  0 46  0]\n",
      " [ 0  0  0  0  0  0  0  0  0  0  0  0  0  0  0 38]]\n"
     ]
    }
   ],
   "source": [
    "import os\n",
    "\n",
    "from rasa_nlu.training_data import load_data\n",
    "from rasa_nlu.model import Trainer\n",
    "from rasa_nlu import config\n",
    "\n",
    "\n",
    "intents_directory = '../data/intents/'\n",
    "\n",
    "intents = {}\n",
    "\n",
    "for intent_file in os.listdir(intents_directory):\n",
    "    intent_file_path = os.path.join(intents_directory, intent_file)\n",
    "\n",
    "    intents[intent_file] = {}\n",
    "\n",
    "    intent_list = []\n",
    "    intent_name = None\n",
    "\n",
    "    with open(intent_file_path) as f:\n",
    "        lines = f.readlines()\n",
    "\n",
    "        for line in lines:\n",
    "            line = line.strip()\n",
    "\n",
    "            if line.startswith('##'):\n",
    "                if intent_name is not None:\n",
    "                    intents[intent_file][intent_name] = intent_list\n",
    "                intent_name = line.replace('## intent:', '') \n",
    "                intent_list = []\n",
    "\n",
    "            elif line.startswith('- '):\n",
    "                intent_list.append(line.replace('- ', ''))\n",
    "\n",
    "\n",
    "# loading the nlu training samples\n",
    "training_data = load_data(intents_directory)\n",
    "\n",
    "# trainer to educate our pipeline\n",
    "trainer = Trainer(config.load(\"../config.yml\"))\n",
    "\n",
    "# train the model!\n",
    "interpreter = trainer.train(training_data)\n",
    "\n",
    "# store it for future use\n",
    "model_directory = trainer.persist(\"./models/nlu\", fixed_model_name=\"current\")\n",
    "\n",
    "from rasa_nlu.evaluate import run_evaluation\n",
    "run_evaluation('../data/intents/', model_directory)"
   ]
  },
  {
   "cell_type": "markdown",
   "metadata": {
    "colab_type": "text",
    "id": "1xeXgpdwzOAl"
   },
   "source": [
    "### Avaliação do modelo de NLU treinado\n",
    "\n",
    "`Caso queira testar mensagens específicas mande a mensagem na célula seguinte`"
   ]
  },
  {
   "cell_type": "code",
   "execution_count": 11,
   "metadata": {
    "colab": {
     "autoexec": {
      "startup": false,
      "wait_interval": 0
     },
     "base_uri": "https://localhost:8080/",
     "height": 377
    },
    "colab_type": "code",
    "executionInfo": {
     "elapsed": 2821,
     "status": "ok",
     "timestamp": 1521380062879,
     "user": {
      "displayName": "Alexander Weidauer",
      "photoUrl": "//lh6.googleusercontent.com/-j4xnI5_PFWA/AAAAAAAAAAI/AAAAAAAAAAo/wPT2w5Bl3xg/s50-c-k-no/photo.jpg",
      "userId": "100444450157165144272"
     },
     "user_tz": -60
    },
    "id": "qHsAH49OePcM",
    "outputId": "f840c42d-acf2-4fbf-b439-e5a239ffb32b",
    "scrolled": true
   },
   "outputs": [
    {
     "name": "stdout",
     "output_type": "stream",
     "text": [
      "{\n",
      "  \"intent\": {\n",
      "    \"name\": \"afirmar\",\n",
      "    \"confidence\": 0.8925634026527405\n",
      "  },\n",
      "  \"entities\": [],\n",
      "  \"intent_ranking\": [\n",
      "    {\n",
      "      \"name\": \"afirmar\",\n",
      "      \"confidence\": 0.8925634026527405\n",
      "    },\n",
      "    {\n",
      "      \"name\": \"extra\",\n",
      "      \"confidence\": 0.38914915919303894\n",
      "    },\n",
      "    {\n",
      "      \"name\": \"curiosidades_lei_rouanet_arrecadamento\",\n",
      "      \"confidence\": 0.06393531709909439\n",
      "    },\n",
      "    {\n",
      "      \"name\": \"curiosidades_lei_rouanet_elegibilidade\",\n",
      "      \"confidence\": 0.04009263589978218\n",
      "    },\n",
      "    {\n",
      "      \"name\": \"curiosidades_receber_incetivo_de_parentes\",\n",
      "      \"confidence\": 0.0\n",
      "    },\n",
      "    {\n",
      "      \"name\": \"curiosidades_elegibilidade_de_empresa_para_beneficios\",\n",
      "      \"confidence\": 0.0\n",
      "    },\n",
      "    {\n",
      "      \"name\": \"afirmar_curiosidades\",\n",
      "      \"confidence\": 0.0\n",
      "    },\n",
      "    {\n",
      "      \"name\": \"cumprimentar\",\n",
      "      \"confidence\": 0.0\n",
      "    },\n",
      "    {\n",
      "      \"name\": \"afirmar_projeto\",\n",
      "      \"confidence\": 0.0\n",
      "    },\n",
      "    {\n",
      "      \"name\": \"o_que_eh\",\n",
      "      \"confidence\": 0.0\n",
      "    }\n",
      "  ],\n",
      "  \"text\": \"sim\"\n",
      "}\n"
     ]
    }
   ],
   "source": [
    "pprint(interpreter.parse(\"sim\"))"
   ]
  },
  {
   "cell_type": "markdown",
   "metadata": {},
   "source": [
    "### Avaliação de correlação das intents"
   ]
  },
  {
   "cell_type": "code",
   "execution_count": 14,
   "metadata": {
    "scrolled": true
   },
   "outputs": [
    {
     "name": "stderr",
     "output_type": "stream",
     "text": [
      "INFO:tensorflow:Restoring parameters from /home/arthur/Documents/lappis/bot/rouana/rouana/lab/./models/nlu/default/current/intent_classifier_tensorflow_embedding.ckpt\n",
      "INFO:rasa_nlu.training_data.loading:Training data format of ../data/intents/geral.md is md\n",
      "INFO:rasa_nlu.training_data.training_data:Training data stats: \n",
      "\t- intent examples: 229 (8 distinct intents)\n",
      "\t- Found intents: 'afirmar_curiosidades', 'duvida_sobre_contexto', 'afirmar_projeto', 'afirmar', 'extra', 'negar', 'cumprimentar', 'o_que_eh'\n",
      "\t- entity examples: 0 (0 distinct entities)\n",
      "\t- found entities: \n",
      "\n",
      "INFO:rasa_nlu.training_data.loading:Training data format of ../data/intents/curiosidades.md is md\n",
      "INFO:rasa_nlu.training_data.training_data:Training data stats: \n",
      "\t- intent examples: 167 (8 distinct intents)\n",
      "\t- Found intents: 'curiosidades_receber_incetivo_de_parentes', 'curiosidades_lei_rouanet_arrecadamento', 'curiosidades_quantidade_projetos', 'curiosidades_lei_rouanet_denuncia', 'curiosidades_beneficios_incentivo_projetos_culturais', 'curiosidades_lei_rouanet_elegibilidade', 'curiosidades_deducao_imposto_de_renda_incentivador', 'curiosidades_elegibilidade_de_empresa_para_beneficios'\n",
      "\t- entity examples: 0 (0 distinct entities)\n",
      "\t- found entities: \n",
      "\n",
      "INFO:rasa_nlu.training_data.training_data:Training data stats: \n",
      "\t- intent examples: 396 (16 distinct intents)\n",
      "\t- Found intents: 'curiosidades_lei_rouanet_arrecadamento', 'afirmar_curiosidades', 'duvida_sobre_contexto', 'afirmar_projeto', 'curiosidades_beneficios_incentivo_projetos_culturais', 'curiosidades_lei_rouanet_denuncia', 'o_que_eh', 'curiosidades_lei_rouanet_elegibilidade', 'extra', 'negar', 'curiosidades_deducao_imposto_de_renda_incentivador', 'curiosidades_receber_incetivo_de_parentes', 'curiosidades_quantidade_projetos', 'afirmar', 'cumprimentar', 'curiosidades_elegibilidade_de_empresa_para_beneficios'\n",
      "\t- entity examples: 0 (0 distinct entities)\n",
      "\t- found entities: \n",
      "\n",
      "INFO:rasa_nlu.evaluate:Intent evaluation results:\n",
      "INFO:rasa_nlu.evaluate:Intent Evaluation: Only considering those 396 examples that have a defined intent out of 396 examples\n",
      "INFO:rasa_nlu.evaluate:F1-Score:  0.9847485847485847\n",
      "INFO:rasa_nlu.evaluate:Precision: 0.9855364455364455\n",
      "INFO:rasa_nlu.evaluate:Accuracy:  0.9848484848484849\n",
      "INFO:rasa_nlu.evaluate:Classification report: \n",
      "                                                       precision    recall  f1-score   support\n",
      "\n",
      "                                              afirmar       0.89      1.00      0.94        33\n",
      "                                 afirmar_curiosidades       1.00      1.00      1.00        21\n",
      "                                      afirmar_projeto       1.00      1.00      1.00        27\n",
      "                                         cumprimentar       1.00      0.93      0.96        27\n",
      " curiosidades_beneficios_incentivo_projetos_culturais       1.00      1.00      1.00        44\n",
      "   curiosidades_deducao_imposto_de_renda_incentivador       1.00      1.00      1.00        14\n",
      "curiosidades_elegibilidade_de_empresa_para_beneficios       1.00      1.00      1.00        15\n",
      "               curiosidades_lei_rouanet_arrecadamento       1.00      1.00      1.00        20\n",
      "                    curiosidades_lei_rouanet_denuncia       1.00      1.00      1.00        20\n",
      "               curiosidades_lei_rouanet_elegibilidade       1.00      1.00      1.00        15\n",
      "                     curiosidades_quantidade_projetos       1.00      1.00      1.00        19\n",
      "            curiosidades_receber_incetivo_de_parentes       1.00      1.00      1.00        20\n",
      "                                duvida_sobre_contexto       1.00      1.00      1.00        10\n",
      "                                                extra       0.92      0.85      0.88        27\n",
      "                                                negar       1.00      1.00      1.00        46\n",
      "                                             o_que_eh       1.00      1.00      1.00        38\n",
      "\n",
      "                                          avg / total       0.99      0.98      0.98       396\n",
      "\n",
      "INFO:rasa_nlu.evaluate:There were some nlu intent classification errors. Use `--verbose` to show them in the log.\n",
      "INFO:rasa_nlu.evaluate:Model prediction errors saved to errors.json.\n",
      "INFO:rasa_nlu.evaluate:Confusion matrix, without normalization: \n",
      "[[33  0  0  0  0  0  0  0  0  0  0  0  0  0  0  0]\n",
      " [ 0 21  0  0  0  0  0  0  0  0  0  0  0  0  0  0]\n",
      " [ 0  0 27  0  0  0  0  0  0  0  0  0  0  0  0  0]\n",
      " [ 0  0  0 25  0  0  0  0  0  0  0  0  0  2  0  0]\n",
      " [ 0  0  0  0 44  0  0  0  0  0  0  0  0  0  0  0]\n",
      " [ 0  0  0  0  0 14  0  0  0  0  0  0  0  0  0  0]\n",
      " [ 0  0  0  0  0  0 15  0  0  0  0  0  0  0  0  0]\n",
      " [ 0  0  0  0  0  0  0 20  0  0  0  0  0  0  0  0]\n",
      " [ 0  0  0  0  0  0  0  0 20  0  0  0  0  0  0  0]\n",
      " [ 0  0  0  0  0  0  0  0  0 15  0  0  0  0  0  0]\n",
      " [ 0  0  0  0  0  0  0  0  0  0 19  0  0  0  0  0]\n",
      " [ 0  0  0  0  0  0  0  0  0  0  0 20  0  0  0  0]\n",
      " [ 0  0  0  0  0  0  0  0  0  0  0  0 10  0  0  0]\n",
      " [ 4  0  0  0  0  0  0  0  0  0  0  0  0 23  0  0]\n",
      " [ 0  0  0  0  0  0  0  0  0  0  0  0  0  0 46  0]\n",
      " [ 0  0  0  0  0  0  0  0  0  0  0  0  0  0  0 38]]\n"
     ]
    },
    {
     "data": {
      "image/png": "[encoded data removed]",
      "text/plain": [
       "<Figure size 432x288 with 2 Axes>"
      ]
     },
     "metadata": {
      "needs_background": "light"
     },
     "output_type": "display_data"
    },
    {
     "data": {
      "image/png": "[encoded data removed]",
      "text/plain": [
       "<Figure size 432x288 with 1 Axes>"
      ]
     },
     "metadata": {
      "needs_background": "light"
     },
     "output_type": "display_data"
    },
    {
     "name": "stderr",
     "output_type": "stream",
     "text": [
      "INFO:rasa_nlu.evaluate:Entity evaluation results:\n",
      "INFO:rasa_nlu.evaluate:Evaluation for entity extractor: ner_crf \n",
      "INFO:rasa_nlu.evaluate:F1-Score:  1.0\n",
      "INFO:rasa_nlu.evaluate:Precision: 1.0\n",
      "INFO:rasa_nlu.evaluate:Accuracy:  1.0\n",
      "INFO:rasa_nlu.evaluate:Classification report: \n",
      "             precision    recall  f1-score   support\n",
      "\n",
      "  no_entity       1.00      1.00      1.00      1742\n",
      "\n",
      "avg / total       1.00      1.00      1.00      1742\n",
      "\n"
     ]
    }
   ],
   "source": [
    "from rasa_nlu.evaluate import run_evaluation\n",
    "run_evaluation('../data/intents/', model_directory)"
   ]
  },
  {
   "cell_type": "code",
   "execution_count": null,
   "metadata": {},
   "outputs": [],
   "source": []
  }
 ],
 "metadata": {
  "colab": {
   "collapsed_sections": [
    "y4miuS-TqYcn",
    "BBF6Nqi9scQE",
    "Fs3nOUzBsqrG",
    "5MnGuFRpzzBh"
   ],
   "default_view": {},
   "name": "Building a Simple Bot with Rasa Stack - Tutorial",
   "provenance": [
    {
     "file_id": "1GutDkDXmfU-nRzNH7Pxxx8YpdvLUw9LO",
     "timestamp": 1521183725373
    }
   ],
   "toc_visible": true,
   "version": "0.3.2",
   "views": {}
  },
  "kernelspec": {
   "display_name": "Python 3",
   "language": "python",
   "name": "python3"
  },
  "language_info": {
   "codemirror_mode": {
    "name": "ipython",
    "version": 3
   },
   "file_extension": ".py",
   "mimetype": "text/x-python",
   "name": "python",
   "nbconvert_exporter": "python",
   "pygments_lexer": "ipython3",
   "version": "3.6.6"
  }
 },
 "nbformat": 4,
 "nbformat_minor": 1
}
